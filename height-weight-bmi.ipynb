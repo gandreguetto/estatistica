{
 "cells": [
  {
   "cell_type": "markdown",
   "metadata": {},
   "source": [
    "# Treinamento de algumas ferramentas estatísticas \n",
    "\n",
    "## Sobre os dados e as análises\n",
    "\n",
    "Neste projeto, diversos conceitos de estatística são praticados em um conjunto de dados de altura, peso e obesidade de uma população. \n",
    "\n",
    "O conjunto apresenta as seguintes variáveis:\n",
    "\n",
    "   - Gênero\n",
    "   - Peso\n",
    "   - Altura\n",
    "   - BMI (indica se a pessoa está abaixo do peso, normal, com sobrepeso ou obesa)\n",
    "        \n",
    "Inicialmente questões sobre amostragem são exploradas e o teorema do limite central é verificado.    \n",
    "\n",
    "Então, diversos testes de hipótese são aplicados em diferentes situações nos dados. "
   ]
  },
  {
   "cell_type": "markdown",
   "metadata": {},
   "source": [
    "## Importando as principais bibliotecas que serão utilizadas"
   ]
  },
  {
   "cell_type": "code",
   "execution_count": 1,
   "metadata": {},
   "outputs": [],
   "source": [
    "import pandas as pd\n",
    "import matplotlib.pyplot as plt\n",
    "import seaborn as sns\n",
    "import random\n",
    "import numpy as np"
   ]
  },
  {
   "cell_type": "markdown",
   "metadata": {},
   "source": [
    "## Carregando os dados"
   ]
  },
  {
   "cell_type": "code",
   "execution_count": 2,
   "metadata": {},
   "outputs": [],
   "source": [
    "# carrega os dados\n",
    "df_bmi = pd.read_csv('weight-height-bmi.csv')"
   ]
  },
  {
   "cell_type": "code",
   "execution_count": 3,
   "metadata": {},
   "outputs": [
    {
     "name": "stdout",
     "output_type": "stream",
     "text": [
      "Os dados contém informações sobre 10000 pessoas\n"
     ]
    }
   ],
   "source": [
    "print('Os dados contém informações sobre {} pessoas'.format(df_bmi.shape[0]))"
   ]
  },
  {
   "cell_type": "code",
   "execution_count": 4,
   "metadata": {},
   "outputs": [
    {
     "data": {
      "text/html": [
       "<div>\n",
       "<style scoped>\n",
       "    .dataframe tbody tr th:only-of-type {\n",
       "        vertical-align: middle;\n",
       "    }\n",
       "\n",
       "    .dataframe tbody tr th {\n",
       "        vertical-align: top;\n",
       "    }\n",
       "\n",
       "    .dataframe thead th {\n",
       "        text-align: right;\n",
       "    }\n",
       "</style>\n",
       "<table border=\"1\" class=\"dataframe\">\n",
       "  <thead>\n",
       "    <tr style=\"text-align: right;\">\n",
       "      <th></th>\n",
       "      <th>Gender</th>\n",
       "      <th>Height</th>\n",
       "      <th>Weight</th>\n",
       "      <th>BMI</th>\n",
       "    </tr>\n",
       "  </thead>\n",
       "  <tbody>\n",
       "    <tr>\n",
       "      <th>0</th>\n",
       "      <td>Male</td>\n",
       "      <td>1.875714</td>\n",
       "      <td>109.720985</td>\n",
       "      <td>Obesity</td>\n",
       "    </tr>\n",
       "    <tr>\n",
       "      <th>1</th>\n",
       "      <td>Male</td>\n",
       "      <td>1.747060</td>\n",
       "      <td>73.622732</td>\n",
       "      <td>Normal</td>\n",
       "    </tr>\n",
       "    <tr>\n",
       "      <th>2</th>\n",
       "      <td>Male</td>\n",
       "      <td>1.882397</td>\n",
       "      <td>96.497550</td>\n",
       "      <td>Overweight</td>\n",
       "    </tr>\n",
       "    <tr>\n",
       "      <th>3</th>\n",
       "      <td>Male</td>\n",
       "      <td>1.821967</td>\n",
       "      <td>99.809504</td>\n",
       "      <td>Obesity</td>\n",
       "    </tr>\n",
       "    <tr>\n",
       "      <th>4</th>\n",
       "      <td>Male</td>\n",
       "      <td>1.774998</td>\n",
       "      <td>93.598619</td>\n",
       "      <td>Overweight</td>\n",
       "    </tr>\n",
       "  </tbody>\n",
       "</table>\n",
       "</div>"
      ],
      "text/plain": [
       "  Gender    Height      Weight         BMI\n",
       "0   Male  1.875714  109.720985     Obesity\n",
       "1   Male  1.747060   73.622732      Normal\n",
       "2   Male  1.882397   96.497550  Overweight\n",
       "3   Male  1.821967   99.809504     Obesity\n",
       "4   Male  1.774998   93.598619  Overweight"
      ]
     },
     "execution_count": 4,
     "metadata": {},
     "output_type": "execute_result"
    }
   ],
   "source": [
    "df_bmi.head()"
   ]
  },
  {
   "cell_type": "code",
   "execution_count": 5,
   "metadata": {},
   "outputs": [
    {
     "data": {
      "text/plain": [
       "Gender    0\n",
       "Height    0\n",
       "Weight    0\n",
       "BMI       0\n",
       "dtype: int64"
      ]
     },
     "execution_count": 5,
     "metadata": {},
     "output_type": "execute_result"
    }
   ],
   "source": [
    "# verifica a existência de dados faltantes\n",
    "df_bmi.isnull().sum()"
   ]
  },
  {
   "cell_type": "markdown",
   "metadata": {},
   "source": [
    "## Distribuição das alturas na população e intervalos de confiança"
   ]
  },
  {
   "cell_type": "code",
   "execution_count": 6,
   "metadata": {},
   "outputs": [
    {
     "data": {
      "image/png": "[encoded data removed]",
      "text/plain": [
       "<Figure size 432x288 with 1 Axes>"
      ]
     },
     "metadata": {
      "needs_background": "light"
     },
     "output_type": "display_data"
    }
   ],
   "source": [
    "# cria um histograma com as alturas na população \n",
    "plt.hist(df_bmi['Height'], rwidth = .92)\n",
    "plt.title('Distribuição de alturas na população', fontsize = 19)\n",
    "plt.xlabel('Altura')\n",
    "plt.show()"
   ]
  },
  {
   "cell_type": "code",
   "execution_count": 7,
   "metadata": {},
   "outputs": [
    {
     "name": "stdout",
     "output_type": "stream",
     "text": [
      "A média de altura na população é de  1.69 m e o desvio padrão é de 0.10 m.\n"
     ]
    }
   ],
   "source": [
    "# calcula a altura média\n",
    "mean_height = df_bmi['Height'].mean()\n",
    "# calcula o desvio padrão da altura\n",
    "std_height = df_bmi['Height'].std()\n",
    "\n",
    "print('A média de altura na população é de  {:.2f} m e o desvio padrão é de {:.2f} m.'.format(mean_height, std_height))"
   ]
  },
  {
   "cell_type": "markdown",
   "metadata": {},
   "source": [
    "Conhecendo-se apenas uma amostra da população, a média populacional pode ser estimada dentro de um intervalo de confiança. O comprimento do intervalo depende do nível de confiança que se deseja. \n",
    "\n",
    "Em geral, determina-se um nível de confiança $(1 - \\alpha)$, que representa a frequência em que o valor correto da média populacional encontra-se dentro do intervalo estipulado ao se realizar diversas amostragens. Por exemplo, um intervalo com nível de confiança de $95\\%$ indica que para cada 100 amostragens o valor real da média estará dentro do intervalo determinado em 95 vezes.  \n",
    "\n",
    "Se o desvio padrão populacional $\\sigma$ for conhecido, o intervalo de confiança para a média obtida de uma amostragem com $n$ elementos é dado por:\n",
    "$$\n",
    "   \\mu_s \\pm z_{1 -\\alpha} \\frac{\\sigma}{\\sqrt{n}},\n",
    "$$\n",
    "onde $z_{1 -\\alpha}$ (ou z-score) é o valor que determina o quantil $1 - \\alpha$ da distribuição Gaussiana padrão. \n",
    "\n",
    "Abaixo, um exemplo de média amostral com intervalo de confiança é calculado para a altura média."
   ]
  },
  {
   "cell_type": "code",
   "execution_count": 8,
   "metadata": {},
   "outputs": [
    {
     "name": "stdout",
     "output_type": "stream",
     "text": [
      "Intervalo de confiança da amostra: 1.67 m +/- 0.03 m\n"
     ]
    }
   ],
   "source": [
    "## média amostral e intervalo de confiança para a altura média\n",
    "\n",
    "# tamanho da amostra\n",
    "n = 30\n",
    "# z-score para um nível de confiança de 95%\n",
    "z = 1.96\n",
    "\n",
    "# seleciona uma amostra de tamanho n dos dados e calcula a altura média na amostra\n",
    "samp_mean = np.mean(random.sample(list(df_bmi['Height']), n))\n",
    "\n",
    "# calcula o tamanho do intervalo\n",
    "interv = z * std_height / np.sqrt(n)\n",
    "\n",
    "print('Intervalo de confiança da amostra: {:.2f} m +/- {:.2f} m'.format(samp_mean, interv)) "
   ]
  },
  {
   "cell_type": "markdown",
   "metadata": {},
   "source": [
    "## Teorema do limite central aplicado na distribuição de alturas\n",
    "\n",
    "O teorema do limite central determina que, independentemente da distribuição de uma variável aleatória, a distribuição das médias de amostras de uma variável aleatória tende a uma distribuição Gaussiana conforme o número de elementos tomados em cada amostra cresce. \n",
    "\n",
    "Conforme visto acima, a distribuição de alturas já é aparentemente simétrica e com distribuição próxima da normal. \n",
    "\n",
    "Nos gráficos a seguir, observa-se como a distribuição das médias de amostras varia conforme o número de elementos tomados em cada amostra cresce. "
   ]
  },
  {
   "cell_type": "code",
   "execution_count": 9,
   "metadata": {},
   "outputs": [],
   "source": [
    "# toma n_samples amostras de alturas contendo n elementos cada. Calcula a média de cada amostra e retorna uma\n",
    "# lista com as médias\n",
    "def dist_sample_height(n, n_samples = 2000):\n",
    "    '''\n",
    "    Parâmetros:\n",
    "    : n : inteiro - Número de elementos tomados em cada amostra\n",
    "    : n_samples : inteiro - Número de amostras\n",
    "    '''\n",
    "    \n",
    "    samp_avg = []\n",
    "    for i in range(n_samples):\n",
    "        samp = random.sample(list(df_bmi['Height']), n)\n",
    "        samp_avg.append(np.mean(samp))\n",
    "        \n",
    "    return samp_avg    "
   ]
  },
  {
   "cell_type": "code",
   "execution_count": 10,
   "metadata": {},
   "outputs": [
    {
     "data": {
      "image/png": "[encoded data removed]",
      "text/plain": [
       "<Figure size 1152x720 with 6 Axes>"
      ]
     },
     "metadata": {
      "needs_background": "light"
     },
     "output_type": "display_data"
    }
   ],
   "source": [
    "# gera distribuições das médias de amostras com diferentes n's e produz gráficos das distribuições\n",
    "\n",
    "fig = plt.figure(figsize = (16, 10))\n",
    "\n",
    "# lista com os diferentes números de elementos que são coletados em cada amostra\n",
    "n_list = [1, 2, 10, 20, 30, 50]\n",
    "\n",
    "# percorre a lista n_list e produz as distribuições das médias\n",
    "for i in range(len(n_list)):\n",
    "    plt.subplot(2, 3, i+1)\n",
    "    plt.hist(dist_sample_height(n_list[i]), rwidth = .92)\n",
    "    plt.title('n = {}'.format(n_list[i]), fontsize = 18)\n",
    "    plt.xlabel('Altura média')\n",
    "\n",
    "plt.subplots_adjust(left=0.125,\n",
    "                    bottom=0.1, \n",
    "                    right=0.9, \n",
    "                    top=0.9, \n",
    "                    wspace=0.2, \n",
    "                    hspace=0.35)"
   ]
  },
  {
   "cell_type": "markdown",
   "metadata": {},
   "source": [
    "O teorema do limite central garante que conforme n aumenta a distribuição das médias das amostras se torna mais próxima de uma normal.\n",
    "\n",
    "Além disso, observa-se que o desvio padrão decresce com n."
   ]
  },
  {
   "cell_type": "markdown",
   "metadata": {},
   "source": [
    "## Intervalos de confiança com a estatística t-Student"
   ]
  },
  {
   "cell_type": "markdown",
   "metadata": {},
   "source": [
    "Quando a variância populacional não é conhecida o intervalo de confiança para a estimativa de uma média pode ser calculado utilizando a distribuição t-Student.\n",
    "\n",
    "A distribuição t-Student depende de um único parâmetro que são os graus de liberdade. Abaixo, essa distribuição é exibida para diferentes graus de liberdade. "
   ]
  },
  {
   "cell_type": "code",
   "execution_count": 11,
   "metadata": {},
   "outputs": [],
   "source": [
    "from scipy import stats"
   ]
  },
  {
   "cell_type": "code",
   "execution_count": 12,
   "metadata": {},
   "outputs": [
    {
     "data": {
      "image/png": "[encoded data removed]",
      "text/plain": [
       "<Figure size 1152x432 with 2 Axes>"
      ]
     },
     "metadata": {
      "needs_background": "light"
     },
     "output_type": "display_data"
    }
   ],
   "source": [
    "# constrói histogramas que seguem a distribuição t com 2 valores distintos para os graus de liberdade\n",
    "fig = plt.figure(figsize = (16, 6))\n",
    "\n",
    "plt.subplot(1, 2, 1)\n",
    "# gera números aleatórios utilizando a distribuição t-Student de grau 6\n",
    "t_dist_6 = stats.t.rvs(df = 6, size= 10000)\n",
    "# constrói um histograma dos valores obtidos \n",
    "plt.hist(t_dist_6, bins=30, density=True, rwidth = 0.9)\n",
    "plt.xlim(-5, 5)\n",
    "plt.ylim(0, 0.45)\n",
    "plt.xlabel('$x$')\n",
    "plt.title('Dist. t-Student com 6 graus de lib.', fontsize = 18)\n",
    "\n",
    "plt.subplot(1, 2, 2)\n",
    "# gera números aleatórios utilizando a distribuição t-Student de grau 100\n",
    "t_dist_100 = stats.t.rvs(df = 100, size= 10000)\n",
    "# constrói um histograma dos valores obtidos \n",
    "plt.hist(t_dist_100, bins = 14, density=True, rwidth = 0.9)\n",
    "plt.xlim(-5, 5)\n",
    "plt.ylim(0, 0.45)\n",
    "plt.xlabel('$x$')\n",
    "plt.title('Dist. t-Student com 100 graus de lib.', fontsize = 18)\n",
    "\n",
    "plt.show()"
   ]
  },
  {
   "cell_type": "markdown",
   "metadata": {},
   "source": [
    "A distribuição t-Student possuí uma calda mais longa do que a normal. \n",
    "\n",
    "Conforme os graus de liberdade aumentam a distribuição se aproxima da normal.\n",
    "\n",
    "O intervalo de confiança utilizando-se a distribuição t-Student é dado por:\n",
    "\n",
    "$$\n",
    "    \\mu_s \\pm t \\frac{\\sigma_s}{\\sqrt{n}},\n",
    "$$\n",
    "\n",
    "onde agora $\\sigma_s$ é o desvio padrão da amostra e $t$ é o valor correspondente ao quantil do nível de confiança desejado na distribuição t com n-1 graus de liberdade.  "
   ]
  },
  {
   "cell_type": "code",
   "execution_count": 13,
   "metadata": {},
   "outputs": [
    {
     "data": {
      "text/plain": [
       "array([-2.04522964,  2.04522964])"
      ]
     },
     "execution_count": 13,
     "metadata": {},
     "output_type": "execute_result"
    }
   ],
   "source": [
    "# computa os valores correspondentes ao quantil 0.95 da distribuição t com n - 1 graus de liberdade\n",
    "n = 30\n",
    "stats.t(df=n-1).ppf((0.025, 0.975))"
   ]
  },
  {
   "cell_type": "code",
   "execution_count": 14,
   "metadata": {
    "scrolled": true
   },
   "outputs": [
    {
     "name": "stdout",
     "output_type": "stream",
     "text": [
      "Intervalo de confiança da amostra: 1.65 +/- 0.62\n"
     ]
    }
   ],
   "source": [
    "# média e intervalo de confiança para a altura média\n",
    "\n",
    "# tamanho da amostra\n",
    "n = 30\n",
    "# valor de t correspondente ao quantil 0.95 e 30 graus de liberdade\n",
    "t = 2.04522964\n",
    "\n",
    "# seleciona uma amostra da altura com n elementos\n",
    "samp = random.sample(list(df_bmi['Height']), n)\n",
    "\n",
    "# altura média na amostra\n",
    "samp_mean = np.mean(samp)\n",
    "# desvio padrão da altura na amostra\n",
    "samp_std = np.mean(samp)\n",
    "\n",
    "interv = t * samp_std / np.sqrt(n)\n",
    "\n",
    "print('Intervalo de confiança da amostra: {:.2f} +/- {:.2f}'.format(samp_mean, interv)) "
   ]
  },
  {
   "cell_type": "markdown",
   "metadata": {},
   "source": [
    "Note que o comprimento do intervalo é bem maior do que o obtido anteriormente utilizando a distribuição z."
   ]
  },
  {
   "cell_type": "markdown",
   "metadata": {},
   "source": [
    "## Testes de hipótese\n",
    "\n",
    "### Teste bi-caudal\n",
    "\n",
    "Neste primeiro exemplo será verificado se o valor da média obtida de uma amostra permite rejeitar um valor pré-determinado para a média de uma distribuição com desvio padrão conhecido."
   ]
  },
  {
   "cell_type": "code",
   "execution_count": 15,
   "metadata": {},
   "outputs": [
    {
     "name": "stdout",
     "output_type": "stream",
     "text": [
      "O peso médio e desvio padrão são respectivamente 73.23 Kg e 14.56 Kg.\n"
     ]
    }
   ],
   "source": [
    "# peso médio na população\n",
    "mean_weight = df_bmi['Weight'].mean()\n",
    "# desvio padrão do peso\n",
    "std_weight = df_bmi['Weight'].std()\n",
    "\n",
    "print(\"O peso médio e desvio padrão são respectivamente {:.2f} Kg e {:.2f} Kg.\".format(mean_weight, std_weight))"
   ]
  },
  {
   "cell_type": "markdown",
   "metadata": {},
   "source": [
    "Considera-se a hipótese nula de que o peso médio da população é de $73.23$ Kg, $\\mu_w = 73.23$ Kg. Escreve-se:\n",
    "\n",
    "$$\n",
    "    H_0: \\mu_w = 73.23 Kg.\n",
    "$$\n",
    "\n",
    "A hipótese alternativa é a de que a média é diferente e será testado se o valor da média obtido de uma amostra de n elementos, $\\mu_s$, permite rejeitar $H_0$. Assim:\n",
    "\n",
    "$$\n",
    "    H_1: \\mu_s \\neq \\mu_w.\n",
    "$$\n",
    "\n",
    "O teste é realizado calculando-se o z-score:\n",
    "\n",
    "$$\n",
    "     \\text{z-score} = \\frac{(\\mu_s - \\mu_w)}{\\frac{\\sigma}{\\sqrt{n}}},\n",
    "$$\n",
    "\n",
    "onde $\\sigma$ é o desvio padrão na população. \n",
    "\n",
    "Uma vez determinado o nível de confiança (ou significância), a hipótese nula é rejeitada se o valor de z-score encontra-se na região de rejeição da distribuição z. Para um nível de confiança de 95%, que equivale a uma significância de 5%, a região de rejeição encontra-se nos valores de z da distribuição normal padrão que estão fora do percentil 95%, ou seja, para $z > 1.96$ ou $z < -1.96.$     "
   ]
  },
  {
   "cell_type": "code",
   "execution_count": 16,
   "metadata": {},
   "outputs": [
    {
     "data": {
      "image/png": "[encoded data removed]",
      "text/plain": [
       "<Figure size 864x576 with 1 Axes>"
      ]
     },
     "metadata": {
      "needs_background": "light"
     },
     "output_type": "display_data"
    }
   ],
   "source": [
    "# desenha a distribuição normal padrão e indica as regiões de rejeição da hipótese nula\n",
    "z_crit = 1.96\n",
    "\n",
    "fig = plt.figure(figsize=(12, 8))\n",
    "x = np.arange(-10, 10, 0.1)\n",
    "plt.plot(x, stats.norm.pdf(x, 0, 1), color = 'k')\n",
    "plt.fill_between(np.arange(-z_crit, z_crit + 0.01, 0.01), stats.norm.pdf(np.arange(-z_crit, z_crit+0.01, 0.01), 0, 1))\n",
    "plt.fill_between(np.arange(-10, -z_crit, 0.01), stats.norm.pdf(np.arange(-10, -z_crit, 0.01), 0, 1), color = 'r')\n",
    "plt.fill_between(np.arange(z_crit, 10, 0.01), stats.norm.pdf(np.arange(z_crit, 10, 0.01), 0, 1), color = 'r')\n",
    "plt.title(r'Distribuição normal padrão e as zonas de rejeição para $\\alpha = 0.05$', fontsize = 21)\n",
    "plt.xlim(-5, 5)\n",
    "plt.ylim(0, 0.45)\n",
    "plt.xlabel('z')\n",
    "plt.show()        "
   ]
  },
  {
   "cell_type": "markdown",
   "metadata": {},
   "source": [
    "Na figura acima, a região em vermelho é a região de rejeição da hipótese nula. Para uma significância de 5% ($\\alpha = 0.05$) a hipótese nula é rejeitada se $|\\text{z-score}| > 1.96$.\n",
    "\n",
    "De maneira informal, a significância indica o valor aceitável para a probabilidade de se estar errado ao rejeitar a hipótese nula."
   ]
  },
  {
   "cell_type": "code",
   "execution_count": 17,
   "metadata": {},
   "outputs": [
    {
     "data": {
      "text/plain": [
       "-0.17716299199933216"
      ]
     },
     "execution_count": 17,
     "metadata": {},
     "output_type": "execute_result"
    }
   ],
   "source": [
    "# tamanho da amostra\n",
    "n = 50\n",
    "\n",
    "# n amostras de peso da população\n",
    "samp = random.sample(list(df_bmi['Weight']), n)\n",
    "\n",
    "# média de peso na amostra\n",
    "mean_samp = np.mean(samp)\n",
    "\n",
    "# calcula o z-score\n",
    "z_score = (mean_samp - mean_weight) / (std_weight / np.sqrt(n))\n",
    "\n",
    "z_score"
   ]
  },
  {
   "cell_type": "markdown",
   "metadata": {},
   "source": [
    "Como $\\text{|z-score|} < z_\\text{crítico} = 1.96$ a hipótese nula não pode ser rejeitada.\n",
    "\n",
    "Visualizando no gráfico, temos:"
   ]
  },
  {
   "cell_type": "code",
   "execution_count": 18,
   "metadata": {},
   "outputs": [
    {
     "data": {
      "image/png": "[encoded data removed]",
      "text/plain": [
       "<Figure size 864x576 with 1 Axes>"
      ]
     },
     "metadata": {
      "needs_background": "light"
     },
     "output_type": "display_data"
    }
   ],
   "source": [
    "# desenha a distribuição normal padrão, indica as regiões de rejeição da hipótese nula e a localização do z-score\n",
    "fig = plt.figure(figsize=(12, 8))\n",
    "x = np.arange(-10, 10, 0.1)\n",
    "plt.plot(x, stats.norm.pdf(x, 0, 1), color = 'k')\n",
    "plt.fill_between(np.arange(-z_crit, z_crit + 0.01, 0.01), stats.norm.pdf(np.arange(-z_crit, z_crit+0.01, 0.01), 0, 1))\n",
    "plt.fill_between(np.arange(-10, -z_crit, 0.01), stats.norm.pdf(np.arange(-10, -z_crit, 0.01), 0, 1), color = 'r')\n",
    "plt.fill_between(np.arange(z_crit, 10, 0.01), stats.norm.pdf(np.arange(z_crit, 10, 0.01), 0, 1), color = 'r')\n",
    "plt.vlines(z_score, 0, stats.norm.pdf(z_score, 0, 1), linestyle = '--')\n",
    "plt.title(r'Distribuição normal padrão e as zonas de rejeição para $\\alpha = 0.05$', fontsize = 21)\n",
    "plt.xlim(-5, 5)\n",
    "plt.ylim(0, 0.45)\n",
    "plt.xlabel('z')\n",
    "plt.show()        "
   ]
  },
  {
   "cell_type": "markdown",
   "metadata": {},
   "source": [
    "O z-score está indicado pela linha tracejada vertical. Nesse caso o z-score está bastante distante dos valores críticos do teste.\n",
    "\n",
    "Um outro parâmetro importante no teste é o valor p (p-value). Ele fornece a probabilidade da estatística de teste ser equivalente ou mais extrema àquela obtida dos dados dado que a hipótese nula seja verdadeira. Ele é calculado como:\n",
    "\n",
    "$$\n",
    "     \\text{p-value} = 1 - \\text{Prob}\\{- z_\\text{score} < z < z_\\text{score}\\} =  2 \\ \\text{Prob}\\{z > |z_\\text{score}|\\}.\n",
    "$$\n",
    "\n",
    "No exemplo acima temos o seguinte valor p:"
   ]
  },
  {
   "cell_type": "code",
   "execution_count": 19,
   "metadata": {},
   "outputs": [
    {
     "data": {
      "text/plain": [
       "0.8593803639026568"
      ]
     },
     "execution_count": 19,
     "metadata": {},
     "output_type": "execute_result"
    }
   ],
   "source": [
    "# calcula o p-value\n",
    "p_value = stats.norm.sf(abs(z_score))*2\n",
    "p_value"
   ]
  },
  {
   "cell_type": "markdown",
   "metadata": {},
   "source": [
    "Esse valor está bem acima da significância pré-determinada e, portanto, a hipótese nula não pode ser rejeitada."
   ]
  },
  {
   "cell_type": "markdown",
   "metadata": {},
   "source": [
    "### Teste t para diferença de médias de duas amostras independentes\n",
    "\n",
    "Esse primeiro teste será realizado nos dados sobre as alturas na população e a hipótese nula é a de que a altura média das mulheres, $\\mu_\\text{wom},$ é menor do que a dos homens, $\\mu_\\text{men}$.\n",
    "\n",
    "O teste é assim definido por:\n",
    "\n",
    "$$\n",
    "    H_0: \\mu_\\text{wom} = \\mu_\\text{men}\n",
    "$$\n",
    "$$\n",
    "    H_1: \\mu_\\text{wom} < \\mu_\\text{men}\n",
    "$$\n",
    "\n",
    "Esse é um teste unilateral."
   ]
  },
  {
   "cell_type": "code",
   "execution_count": 20,
   "metadata": {},
   "outputs": [
    {
     "name": "stdout",
     "output_type": "stream",
     "text": [
      "A média de altura dos homens é de 1.75 m  e a das mulheres é 1.62 m.\n"
     ]
    }
   ],
   "source": [
    "# gera uma pandas series com as médias de altura de mulheres e homens\n",
    "means = df_bmi.groupby('Gender').mean()['Height']\n",
    "# gera uma pandas series com os desvios padrão da altura de mulheres e homens\n",
    "stds = df_bmi.groupby('Gender').std()['Height']\n",
    "\n",
    "mean_wom, mean_men = means\n",
    "std_wom, std_men = stds\n",
    "\n",
    "print('A média de altura dos homens é de {:.2f} m  e a das mulheres é {:.2f} m.'.format(mean_men,mean_wom))"
   ]
  },
  {
   "cell_type": "markdown",
   "metadata": {},
   "source": [
    "Na figura abaixo as distribuições de alturas de homens e mulheres são mostradas: "
   ]
  },
  {
   "cell_type": "code",
   "execution_count": 21,
   "metadata": {},
   "outputs": [
    {
     "data": {
      "image/png": "[encoded data removed]",
      "text/plain": [
       "<Figure size 720x576 with 1 Axes>"
      ]
     },
     "metadata": {
      "needs_background": "light"
     },
     "output_type": "display_data"
    }
   ],
   "source": [
    "fig = plt.figure(figsize = (10, 8))\n",
    "plt.hist(df_bmi[df_bmi['Gender'] == 'Male']['Height'], bins = 15, color = 'green', edgecolor = 'k', alpha = 0.5, label = 'Homens')\n",
    "plt.hist(df_bmi[df_bmi['Gender'] == 'Female']['Height'], bins = 15, color = 'r', edgecolor = 'k', alpha = 0.5, label = 'Mulheres')\n",
    "plt.legend(prop={'size': 15})\n",
    "plt.xlabel('Altura')\n",
    "plt.title('Distribuição de alturas', fontsize = 20)\n",
    "plt.show()"
   ]
  },
  {
   "cell_type": "markdown",
   "metadata": {},
   "source": [
    "Nesse tipo de teste a estatística utilizada é baseada na distribuição t. \n",
    "\n",
    "Calcula-se o valor $t_\\text{calc}$ para o teste, que é dado por:\n",
    "\n",
    "$$\n",
    "    t_\\text{calc} = \\frac{(\\mu_\\text{wom} - \\mu_\\text{man})}{\\sqrt{\\frac{\\sigma_\\text{wom}^2}{n_\\text{wom}} + \\frac{\\sigma_\\text{men}^2}{n_\\text{men}}}}\n",
    "$$\n",
    "\n",
    "e também os graus de liberdade:\n",
    "\n",
    "$$\n",
    "    \\text{Graus de lib.} = \\frac{(\\sigma_\\text{wom}^2/n_\\text{wom} + \\sigma_\\text{men}^2/n_\\text{men})^2}{\\frac{(\\sigma_\\text{wom}^2/n_\\text{wom})^2}{n_\\text{wom} - 1} + \\frac{(\\sigma_\\text{men}^2/n_\\text{men})^2}{n_\\text{men} - 1}}.\n",
    "$$\n",
    "\n",
    "De forma similar ao que foi feito anteriormente, deve-se então definir o nível de confiança desejado e identificar os valores críticos de $t$ correspondentes na distribuição t com esses graus de liberdade. \n",
    "\n",
    "Nesse teste unilateral a hipótese nula é rejeitada se $t_\\text{calc} < t_\\text{crítico}$"
   ]
  },
  {
   "cell_type": "code",
   "execution_count": 22,
   "metadata": {},
   "outputs": [],
   "source": [
    "# número de dados de homens\n",
    "n_men = sum(df_bmi['Gender'] == 'Male')\n",
    "# número de dados de mulheres\n",
    "n_wom = sum(df_bmi['Gender'] == 'Female')\n",
    "\n",
    "# cálculo do t_calc nesse caso\n",
    "t_calc = (mean_wom - mean_men) / np.sqrt(std_wom**2/n_wom + std_men**2/n_men)\n",
    "# cálculo dos graus de liberdade\n",
    "df = (std_wom**2/n_wom + std_men**2/n_men)**2 / ((std_wom**2/n_wom)**2 / (n_wom - 1) + (std_men**2/n_men)**2 / (n_men - 1))"
   ]
  },
  {
   "cell_type": "code",
   "execution_count": 23,
   "metadata": {},
   "outputs": [
    {
     "name": "stdout",
     "output_type": "stream",
     "text": [
      "Tem-se nesse caso t_calc = -95.60 e Graus de lib. = 9962.08.\n"
     ]
    }
   ],
   "source": [
    "print('Tem-se nesse caso t_calc = {:.2f} e Graus de lib. = {:.2f}.'.format(t_calc, df))"
   ]
  },
  {
   "cell_type": "code",
   "execution_count": 24,
   "metadata": {},
   "outputs": [
    {
     "data": {
      "text/plain": [
       "array([-1.6450066 ,  4.26694546])"
      ]
     },
     "execution_count": 24,
     "metadata": {},
     "output_type": "execute_result"
    }
   ],
   "source": [
    "# computa os valores correspondentes ao quantil 0.95 da distribuição t com n graus de liberdade\n",
    "n = df\n",
    "stats.t(df=df).ppf((0.05, 0.99999))"
   ]
  },
  {
   "cell_type": "markdown",
   "metadata": {},
   "source": [
    "Aqui, $t_\\text{crítico} = -1.64$.\n",
    "\n",
    "Como tem-se um teste unilateral à esquerda, $t_\\text{crítico}$ é obtido tal que $\\text{Prob}\\{-\\infty < t < t_\\text{crítico}\\} = 0.05$.\n",
    "\n",
    "Como $t_\\text{calc} = -95.6$, tem-se $t_\\text{calc} < t_\\text{crítico}$ e a hipótese nula é rejeitada.\n",
    "\n",
    "Pode-se afirmar, portanto, que a altura média das mulheres é menor do que a dos homens."
   ]
  },
  {
   "cell_type": "markdown",
   "metadata": {},
   "source": [
    "Abaixo está ilustrada a distribuição t e a região de rejeição para o teste unilateral."
   ]
  },
  {
   "cell_type": "code",
   "execution_count": 25,
   "metadata": {},
   "outputs": [
    {
     "data": {
      "image/png": "[encoded data removed]",
      "text/plain": [
       "<Figure size 864x576 with 1 Axes>"
      ]
     },
     "metadata": {
      "needs_background": "light"
     },
     "output_type": "display_data"
    }
   ],
   "source": [
    "# desenha a distribuição t-Student, indica a região de exclusão de um teste unilateral com significância de 5%\n",
    "t_crit = -1.64\n",
    "\n",
    "fig = plt.figure(figsize=(12, 8))\n",
    "x = np.arange(-10, 10, 0.1)\n",
    "plt.plot(x, stats.t.pdf(x, df), color = 'k')\n",
    "plt.fill_between(np.arange(t_crit, 10, 0.01), stats.t.pdf(np.arange(t_crit, 10, 0.01), df))\n",
    "plt.fill_between(np.arange(-10, t_crit + 0.01, 0.01), stats.t.pdf(np.arange(-10, t_crit+0.01, 0.01), df), color = 'r')\n",
    "plt.title(r'Distribuição t-Student e a zona de rejeição para $\\alpha = 0.05$', fontsize = 21)\n",
    "plt.xlim(-5, 5)\n",
    "plt.ylim(0, 0.45)\n",
    "plt.xlabel('t')\n",
    "plt.show()        "
   ]
  },
  {
   "cell_type": "code",
   "execution_count": 26,
   "metadata": {},
   "outputs": [
    {
     "data": {
      "text/plain": [
       "0.0"
      ]
     },
     "execution_count": 26,
     "metadata": {},
     "output_type": "execute_result"
    }
   ],
   "source": [
    "# p-value do teste unilateral  \n",
    "p_value = stats.t.sf(abs(t_calc), df)\n",
    "p_value"
   ]
  },
  {
   "cell_type": "markdown",
   "metadata": {},
   "source": [
    "O p-value é baixissímo e a chance de se estar errado ao rejeitar a hipótese nula é praticamente zero."
   ]
  },
  {
   "cell_type": "markdown",
   "metadata": {},
   "source": [
    "## Teste $\\chi^2$ para independência entre variáveis categóricas"
   ]
  },
  {
   "cell_type": "markdown",
   "metadata": {},
   "source": [
    "Agora a independência entre variáveis categóricas será testada.  \n",
    "\n",
    "A primeira hipótese testada será se a obesidade está associada com algum dos sexos.\n",
    "\n",
    "Define-se assim as hipóteses:\n",
    "\n",
    "$$\n",
    "    H_0: \\text{Não existe associação significativa entre ser obeso e ser do sexo masculino.}\n",
    "$$\n",
    "$$\n",
    "    H_1: \\text{Existe associação significativa entre ser homem e ser obeso.}\n",
    "$$\n",
    "\n",
    "Os dados apresentam uma categoria de sobrepeso ('Overweight') e outra categoria de obeso ('Obesity'). Inicialmente o teste se aplicará apenas aos classificados como obesos. \n",
    "\n",
    "Primeiramente será criada uma nova variável informando se o indivíduo é obeso ou não."
   ]
  },
  {
   "cell_type": "code",
   "execution_count": 27,
   "metadata": {},
   "outputs": [],
   "source": [
    "def obesity(x):\n",
    "    '''\n",
    "    :x : string\n",
    "     \n",
    "    Recebe a string x e retorna 'Obese' se o indivíduo é obeso \n",
    "    e 'Not obese' se não for obeso. \n",
    "    \n",
    "    '''\n",
    "            \n",
    "    if x == 'Obesity':\n",
    "        return 'Obese'\n",
    "    else:\n",
    "        return 'Not obese'\n",
    "\n",
    "# cria a nova coluna 'obesity' contendo a informação se o indivíduo é obeso ou não    \n",
    "df_bmi['obesity'] = df_bmi['BMI'].apply(obesity)    "
   ]
  },
  {
   "cell_type": "markdown",
   "metadata": {},
   "source": [
    "Para realizar o teste monta-se a seguinte matriz de contingência."
   ]
  },
  {
   "cell_type": "code",
   "execution_count": 28,
   "metadata": {},
   "outputs": [
    {
     "data": {
      "text/html": [
       "<div>\n",
       "<style scoped>\n",
       "    .dataframe tbody tr th:only-of-type {\n",
       "        vertical-align: middle;\n",
       "    }\n",
       "\n",
       "    .dataframe tbody tr th {\n",
       "        vertical-align: top;\n",
       "    }\n",
       "\n",
       "    .dataframe thead th {\n",
       "        text-align: right;\n",
       "    }\n",
       "</style>\n",
       "<table border=\"1\" class=\"dataframe\">\n",
       "  <thead>\n",
       "    <tr style=\"text-align: right;\">\n",
       "      <th>obesity</th>\n",
       "      <th>Not obese</th>\n",
       "      <th>Obese</th>\n",
       "      <th>All</th>\n",
       "    </tr>\n",
       "    <tr>\n",
       "      <th>Gender</th>\n",
       "      <th></th>\n",
       "      <th></th>\n",
       "      <th></th>\n",
       "    </tr>\n",
       "  </thead>\n",
       "  <tbody>\n",
       "    <tr>\n",
       "      <th>Female</th>\n",
       "      <td>5000</td>\n",
       "      <td>0</td>\n",
       "      <td>5000</td>\n",
       "    </tr>\n",
       "    <tr>\n",
       "      <th>Male</th>\n",
       "      <td>4745</td>\n",
       "      <td>255</td>\n",
       "      <td>5000</td>\n",
       "    </tr>\n",
       "    <tr>\n",
       "      <th>All</th>\n",
       "      <td>9745</td>\n",
       "      <td>255</td>\n",
       "      <td>10000</td>\n",
       "    </tr>\n",
       "  </tbody>\n",
       "</table>\n",
       "</div>"
      ],
      "text/plain": [
       "obesity  Not obese  Obese    All\n",
       "Gender                          \n",
       "Female        5000      0   5000\n",
       "Male          4745    255   5000\n",
       "All           9745    255  10000"
      ]
     },
     "execution_count": 28,
     "metadata": {},
     "output_type": "execute_result"
    }
   ],
   "source": [
    "# monta a matriz de contingência indicando o número de pessoas obesas e não obesas discriminadas pelo sexo \n",
    "cross_tab = pd.crosstab(df_bmi['Gender'], df_bmi['obesity'], margins = True)\n",
    "cross_tab"
   ]
  },
  {
   "cell_type": "markdown",
   "metadata": {},
   "source": [
    "Essa matriz contém as frequências observadas e precisa-se agora montar a matriz \"esperada\", com elementos $E_{ij}$.\n",
    "\n",
    "A matriz esperada é construída de tal forma que a incidência de obesidade nos sexos reflita a frequência na população. \n",
    "\n",
    "Tem-se:\n",
    "\n",
    "$$\n",
    "    E_{ij} = \\frac{n_i n_j}{n}\n",
    "$$\n",
    "\n",
    "onde $n_i$ é o número de elementos na linha $i$ e $n_j$ é o número de elementos na coluna $j$. $n$ é a quantidade total de observações."
   ]
  },
  {
   "cell_type": "code",
   "execution_count": 29,
   "metadata": {},
   "outputs": [],
   "source": [
    "# inicia a matriz esperada com zeros\n",
    "E = np.zeros((2, 2))"
   ]
  },
  {
   "cell_type": "code",
   "execution_count": 30,
   "metadata": {},
   "outputs": [],
   "source": [
    "# atribui os elementos da matriz esperada conforme a relação acima\n",
    "for i in range(2):\n",
    "    for j in range(2):\n",
    "        E[i, j] = (cross_tab.iloc[i, :].sum())*(cross_tab.iloc[:, j].sum()) / 10000"
   ]
  },
  {
   "cell_type": "code",
   "execution_count": 31,
   "metadata": {},
   "outputs": [
    {
     "data": {
      "text/plain": [
       "array([[19490.,   510.],\n",
       "       [19490.,   510.]])"
      ]
     },
     "execution_count": 31,
     "metadata": {},
     "output_type": "execute_result"
    }
   ],
   "source": [
    "# matriz esperada\n",
    "E"
   ]
  },
  {
   "cell_type": "markdown",
   "metadata": {},
   "source": [
    "O teste $\\chi^2$ é realizado computando a distância entre as matrizes observada e esperada através da expressão:\n",
    "\n",
    "$$\n",
    "    \\chi^2_\\text{calculado} = \\sum_{i = 1}^2 \\sum_{j = 1}^2 \\frac{(O_{ij} - E_{ij})^2}{E_{ij}}.\n",
    "$$\n",
    "\n",
    "A hipótese nula é então rejeitada se $\\chi^2_\\text{calculado}$ encontra-se na região de rejeição da distribuição $\\chi^2$ com d graus de liberdade, onde $d =(\\text{n. linhas} - 1).(\\text{n. colunas} - 1)$. Nesse caso $d = (2 -1)(2 -1) = 1.$\n",
    "\n"
   ]
  },
  {
   "cell_type": "code",
   "execution_count": 32,
   "metadata": {},
   "outputs": [
    {
     "data": {
      "text/plain": [
       "22565.418163160593"
      ]
     },
     "execution_count": 32,
     "metadata": {},
     "output_type": "execute_result"
    }
   ],
   "source": [
    "# calcula o valor de qui quadrado \n",
    "chi2_calc = 0\n",
    "\n",
    "for i in range(2):\n",
    "    for j in range(2):\n",
    "        chi2_calc += (cross_tab.iloc[i, j].sum() - E[i, j])**2 / E[i, j]\n",
    "        \n",
    "chi2_calc"
   ]
  },
  {
   "cell_type": "code",
   "execution_count": 33,
   "metadata": {},
   "outputs": [
    {
     "data": {
      "text/plain": [
       "array([0.        , 3.84145882])"
      ]
     },
     "execution_count": 33,
     "metadata": {},
     "output_type": "execute_result"
    }
   ],
   "source": [
    "# computa os valores correspondentes ao quantil 0.95 da distribuição qui quadrado com n graus de liberdade\n",
    "n = 1\n",
    "stats.chi2(df=1).ppf((0., 0.95))"
   ]
  },
  {
   "cell_type": "markdown",
   "metadata": {},
   "source": [
    "O valor crítico é portanto $\\chi^2_{crítico} = 3.84.$ \n",
    "\n",
    "Como $\\chi^2_{calc} = 22565.42$, tem-se $\\chi^2_{calc} > \\chi^2_{crítico}$ e a hipótese nula é rejeitada. Concluí-se então que existe uma relação entre obesidade e sexo.\n",
    "\n",
    "Abaixo, a distribuição $\\chi^2$ com 1 grau de liberdade é ilustrada e a região de rejeição indicada.  "
   ]
  },
  {
   "cell_type": "code",
   "execution_count": 34,
   "metadata": {},
   "outputs": [
    {
     "data": {
      "image/png": "[encoded data removed]",
      "text/plain": [
       "<Figure size 864x576 with 1 Axes>"
      ]
     },
     "metadata": {
      "needs_background": "light"
     },
     "output_type": "display_data"
    }
   ],
   "source": [
    "# desenha a distribuição qui quadrado com 1 grau de liberdade e indica a região de exclusão com significância de 5%\n",
    "chi2_crit = 3.84\n",
    "\n",
    "fig = plt.figure(figsize=(12, 8))\n",
    "x = np.arange(0, 10, 0.01)\n",
    "plt.plot(x, stats.chi2.pdf(x, 1), color = 'k')\n",
    "plt.fill_between(np.arange(0, chi2_crit + 0.01, 0.01), stats.chi2.pdf(np.arange(0, chi2_crit + 0.01, 0.01), 1))\n",
    "plt.fill_between(np.arange(chi2_crit, 10, 0.01), stats.chi2.pdf(np.arange(chi2_crit, 10, 0.01), 1), color = 'r')\n",
    "plt.title(r'Distribuição $\\chi^2$ e a zona de rejeição para $\\alpha = 0.05$', fontsize = 21)\n",
    "plt.xlim(0, 5)\n",
    "plt.ylim(0, 1)\n",
    "plt.xlabel('$\\chi^2$')\n",
    "plt.show()        "
   ]
  },
  {
   "cell_type": "code",
   "execution_count": 35,
   "metadata": {},
   "outputs": [
    {
     "data": {
      "text/plain": [
       "0.0"
      ]
     },
     "execution_count": 35,
     "metadata": {},
     "output_type": "execute_result"
    }
   ],
   "source": [
    "# p-value do teste\n",
    "p_value = 1 - stats.chi2.cdf(chi2_calc, 1)\n",
    "p_value"
   ]
  },
  {
   "cell_type": "markdown",
   "metadata": {},
   "source": [
    "O p-value é praticamente nulo e o teste tem um alto grau de confiabilidade.\n",
    "\n",
    "A seguir, o teste será extendido para considerar indivíduos obesos ou com sobrepeso. Em ambos os casos o indivíduo será classificado como sobrepeso. "
   ]
  },
  {
   "cell_type": "code",
   "execution_count": 36,
   "metadata": {},
   "outputs": [],
   "source": [
    "def overweight(x):\n",
    "    '''\n",
    "    :x : string\n",
    "    \n",
    "    Recebe a string x e retorna 'Overweight' se x = 'Obesity' ou x = 'Overweight', \n",
    "    e retorna 'Not overweight' caso contrário.\n",
    "    \n",
    "    '''\n",
    "    \n",
    "    if x == 'Obesity' or x == 'Overweight':\n",
    "        return 'Overweight'\n",
    "    else:\n",
    "        return 'Not overweight'\n",
    "\n",
    "# cria uma nova coluna indicando se o indivíduo está com sobrepeso    \n",
    "df_bmi['overweight'] = df_bmi['BMI'].apply(overweight)    "
   ]
  },
  {
   "cell_type": "code",
   "execution_count": 37,
   "metadata": {},
   "outputs": [
    {
     "data": {
      "text/html": [
       "<div>\n",
       "<style scoped>\n",
       "    .dataframe tbody tr th:only-of-type {\n",
       "        vertical-align: middle;\n",
       "    }\n",
       "\n",
       "    .dataframe tbody tr th {\n",
       "        vertical-align: top;\n",
       "    }\n",
       "\n",
       "    .dataframe thead th {\n",
       "        text-align: right;\n",
       "    }\n",
       "</style>\n",
       "<table border=\"1\" class=\"dataframe\">\n",
       "  <thead>\n",
       "    <tr style=\"text-align: right;\">\n",
       "      <th>overweight</th>\n",
       "      <th>Not overweight</th>\n",
       "      <th>Overweight</th>\n",
       "      <th>All</th>\n",
       "    </tr>\n",
       "    <tr>\n",
       "      <th>Gender</th>\n",
       "      <th></th>\n",
       "      <th></th>\n",
       "      <th></th>\n",
       "    </tr>\n",
       "  </thead>\n",
       "  <tbody>\n",
       "    <tr>\n",
       "      <th>Female</th>\n",
       "      <td>3929</td>\n",
       "      <td>1071</td>\n",
       "      <td>5000</td>\n",
       "    </tr>\n",
       "    <tr>\n",
       "      <th>Male</th>\n",
       "      <td>227</td>\n",
       "      <td>4773</td>\n",
       "      <td>5000</td>\n",
       "    </tr>\n",
       "    <tr>\n",
       "      <th>All</th>\n",
       "      <td>4156</td>\n",
       "      <td>5844</td>\n",
       "      <td>10000</td>\n",
       "    </tr>\n",
       "  </tbody>\n",
       "</table>\n",
       "</div>"
      ],
      "text/plain": [
       "overweight  Not overweight  Overweight    All\n",
       "Gender                                       \n",
       "Female                3929        1071   5000\n",
       "Male                   227        4773   5000\n",
       "All                   4156        5844  10000"
      ]
     },
     "execution_count": 37,
     "metadata": {},
     "output_type": "execute_result"
    }
   ],
   "source": [
    "# cria a matriz de contingência nesse caso indicando a quantidade de indivíduos com sobrepeso,\n",
    "#discriminados pelo sexo\n",
    "cross_tab = pd.crosstab(df_bmi['Gender'], df_bmi['overweight'], margins = True,)\n",
    "cross_tab"
   ]
  },
  {
   "cell_type": "code",
   "execution_count": 38,
   "metadata": {},
   "outputs": [],
   "source": [
    "# computa a matriz esperada nesse caso\n",
    "E = np.zeros((2, 2))\n",
    "\n",
    "for i in range(2):\n",
    "    for j in range(2):\n",
    "        E[i, j] = (cross_tab.iloc[i, :-1].sum())*(cross_tab.iloc[:-1, j].sum()) / 10000"
   ]
  },
  {
   "cell_type": "code",
   "execution_count": 39,
   "metadata": {},
   "outputs": [
    {
     "data": {
      "text/plain": [
       "array([[2078., 2922.],\n",
       "       [2078., 2922.]])"
      ]
     },
     "execution_count": 39,
     "metadata": {},
     "output_type": "execute_result"
    }
   ],
   "source": [
    "E"
   ]
  },
  {
   "cell_type": "code",
   "execution_count": 40,
   "metadata": {},
   "outputs": [
    {
     "data": {
      "text/plain": [
       "5642.701578875598"
      ]
     },
     "execution_count": 40,
     "metadata": {},
     "output_type": "execute_result"
    }
   ],
   "source": [
    "# calcula o valor de qui quadrado para o teste\n",
    "chi2_calc = 0\n",
    "\n",
    "for i in range(2):\n",
    "    for j in range(2):\n",
    "        chi2_calc += (cross_tab.iloc[i, j].sum() - E[i, j])**2 / E[i, j]\n",
    "        \n",
    "chi2_calc"
   ]
  },
  {
   "cell_type": "markdown",
   "metadata": {},
   "source": [
    "Novamente, pode-se então afirmar que o sobrepeso está fortemente relacionado ao sexo."
   ]
  },
  {
   "cell_type": "code",
   "execution_count": 41,
   "metadata": {},
   "outputs": [
    {
     "data": {
      "text/plain": [
       "0.0"
      ]
     },
     "execution_count": 41,
     "metadata": {},
     "output_type": "execute_result"
    }
   ],
   "source": [
    "# p-value para o teste\n",
    "p_value = 1 - stats.chi2.cdf(chi2_calc, 1)\n",
    "p_value"
   ]
  }
 ],
 "metadata": {
  "kernelspec": {
   "display_name": "Python 3 (ipykernel)",
   "language": "python",
   "name": "python3"
  },
  "language_info": {
   "codemirror_mode": {
    "name": "ipython",
    "version": 3
   },
   "file_extension": ".py",
   "mimetype": "text/x-python",
   "name": "python",
   "nbconvert_exporter": "python",
   "pygments_lexer": "ipython3",
   "version": "3.8.10"
  }
 },
 "nbformat": 4,
 "nbformat_minor": 4
}
